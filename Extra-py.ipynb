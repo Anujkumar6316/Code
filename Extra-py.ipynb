{
 "cells": [
  {
   "cell_type": "code",
   "execution_count": 13,
   "id": "35e1f338",
   "metadata": {},
   "outputs": [],
   "source": [
    "import random\n",
    "res=[]\n",
    "for i in range(10):\n",
    "    res.append(random.random())\n",
    "f = open(\"ex.txt\",\"a\")\n",
    "for i in res:\n",
    "    f.write(\"Calibre: %0.3f\\n\"% i)\n",
    "\n",
    "f.close()"
   ]
  },
  {
   "cell_type": "code",
   "execution_count": 11,
   "id": "0e9367d6",
   "metadata": {},
   "outputs": [
    {
     "data": {
      "text/plain": [
       "[0.9880784268067848,\n",
       " 0.6693117116488777,\n",
       " 0.4518451575845347,\n",
       " 0.16977504210326577,\n",
       " 0.48412213803591175,\n",
       " 0.9325458189508081,\n",
       " 0.04305508197505892,\n",
       " 0.08019391857002922,\n",
       " 0.9481620210299081,\n",
       " 0.9220973766976315]"
      ]
     },
     "execution_count": 11,
     "metadata": {},
     "output_type": "execute_result"
    }
   ],
   "source": [
    "res"
   ]
  },
  {
   "cell_type": "code",
   "execution_count": 26,
   "id": "db084f36",
   "metadata": {
    "scrolled": true
   },
   "outputs": [
    {
     "data": {
      "text/plain": [
       "['anuj',\n",
       " 'anuj',\n",
       " 'anuj',\n",
       " 'anuj',\n",
       " 'anuj',\n",
       " 'ashish',\n",
       " 'ashish',\n",
       " 'ashish',\n",
       " 'ashish',\n",
       " 'ashish']"
      ]
     },
     "execution_count": 26,
     "metadata": {},
     "output_type": "execute_result"
    }
   ],
   "source": [
    "name=['anuj']*5+['ashish']*5\n",
    "name"
   ]
  },
  {
   "cell_type": "code",
   "execution_count": null,
   "id": "1861268d",
   "metadata": {},
   "outputs": [],
   "source": [
    "calibre=[]\n",
    "reliability=[]\n",
    "distance=['100-200','200-400','400-800','800-1200','1200-1600']\n",
    "stamina=[]\n",
    "genetics=[]\n",
    "for i in range(3000):\n",
    "    calibre.append(random.random())\n",
    "    reliability.append(random.random())\n",
    "    stamina.append(random.random())\n",
    "    genetics.append(random.random())"
   ]
  },
  {
   "cell_type": "code",
   "execution_count": 14,
   "id": "57bc901a",
   "metadata": {},
   "outputs": [],
   "source": [
    "f=open(\"art.txt\",\"w\")"
   ]
  },
  {
   "cell_type": "code",
   "execution_count": 15,
   "id": "4399da26",
   "metadata": {},
   "outputs": [],
   "source": [
    "for i in range(10):\n",
    "    \n",
    "f.close()"
   ]
  },
  {
   "cell_type": "code",
   "execution_count": 33,
   "id": "05c92229",
   "metadata": {},
   "outputs": [],
   "source": [
    "import random\n",
    "age=[27,21,3,45]\n",
    "f=open(\"ex.txt\",\"w\")\n",
    "for i in range(5):\n",
    "    f.write('Name:\"%s\"\\n' %'anuj')\n",
    "    f.write('Age:\"%d\"\\n' %random.choice(age))\n",
    "f.close()"
   ]
  },
  {
   "cell_type": "code",
   "execution_count": null,
   "id": "524f6506",
   "metadata": {},
   "outputs": [],
   "source": []
  }
 ],
 "metadata": {
  "kernelspec": {
   "display_name": "Python 3 (ipykernel)",
   "language": "python",
   "name": "python3"
  },
  "language_info": {
   "codemirror_mode": {
    "name": "ipython",
    "version": 3
   },
   "file_extension": ".py",
   "mimetype": "text/x-python",
   "name": "python",
   "nbconvert_exporter": "python",
   "pygments_lexer": "ipython3",
   "version": "3.10.2"
  }
 },
 "nbformat": 4,
 "nbformat_minor": 5
}
